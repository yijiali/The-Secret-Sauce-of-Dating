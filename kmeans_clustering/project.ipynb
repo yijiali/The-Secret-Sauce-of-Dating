{
 "cells": [
  {
   "cell_type": "code",
   "execution_count": null,
   "metadata": {
    "collapsed": false
   },
   "outputs": [],
   "source": [
    "#cluster all participants \n",
    "import pandas as pd\n",
    "import numpy as np\n",
    "df=pd.read_csv('Feature.csv',index_col='iid')\n",
    "data=df.drop(['expnum','race'],axis=1)\n",
    "data=data.dropna()\n",
    "\n",
    "def kmeans_cluster(data):\n",
    "    from sklearn.cluster import KMeans\n",
    "    km = KMeans(n_clusters=7, init='k-means++',n_init=30)\n",
    "    return km.fit_predict(data)\n",
    "\n",
    "data['cluster']=kmeans_cluster(data.drop(['gender'],axis=1))\n",
    "data.to_csv('data.csv')"
   ]
  },
  {
   "cell_type": "code",
   "execution_count": null,
   "metadata": {
    "collapsed": false
   },
   "outputs": [],
   "source": [
    "def general_match():\n",
    "#calculate the speed dating's match ratio between persons from same types and persons from different types\n",
    "    df=pd.read_csv('Speed Dating Data.csv')\n",
    "    man=df[(df.gender==1)][['iid','pid','match']]\n",
    "    woman=df[(df.gender==0)][['iid','pid','match']]\n",
    "    wdata=woman.dropna()\n",
    "    mdata=man.dropna()\n",
    "    wdf=pd.read_csv('data.csv')[df['gender']==0]\n",
    "    mdf=pd.read_csv('data.csv')[df['gender']==1]\n",
    "    m_same_sum=0\n",
    "    m_same_match=0\n",
    "    m_diff_sum=0\n",
    "    m_diff_match=0\n",
    "    w_same_sum=0\n",
    "    w_same_match=0\n",
    "    w_diff_sum=0\n",
    "    w_diff_match=0\n",
    "    for row in mdata.iterrows():\n",
    "        if len(mdf[mdf['iid']==row[1][0]]) == 0 or len(wdf[wdf['iid']==row[1][1]])==0:\n",
    "            continue\n",
    "        r_n=mdf[mdf['iid']==row[1][0]].iloc[0].cluster\n",
    "        c_n=wdf[wdf['iid']==row[1][1]].iloc[0].cluster\n",
    "        if r_n==c_n:\n",
    "            m_same_sum += 1\n",
    "            if row[1][2]==1:\n",
    "                m_same_match += 1\n",
    "        else:\n",
    "            m_diff_sum += 1\n",
    "            if row[1][2]==1:\n",
    "                m_diff_match += 1\n",
    "                \n",
    "    for row in wdata.iterrows():\n",
    "        if len(wdf[wdf['iid']==row[1][0]]) == 0 or len(mdf[mdf['iid']==row[1][1]])==0:\n",
    "            continue\n",
    "        r_n=wdf[wdf['iid']==row[1][0]].iloc[0].cluster\n",
    "        c_n=mdf[mdf['iid']==row[1][1]].iloc[0].cluster\n",
    "        if r_n==c_n:\n",
    "            w_same_sum += 1\n",
    "            if row[1][2]==1:\n",
    "                w_same_match += 1\n",
    "        else:\n",
    "            w_diff_sum += 1\n",
    "            if row[1][2]==1:\n",
    "                w_diff_match += 1\n",
    "                \n",
    "    return m_same_match/m_same_sum,m_diff_match/m_diff_sum,w_same_match/w_same_sum,w_diff_match/w_diff_sum\n",
    "m_same_ratio,m_diff_ratio,w_same_ratio,w_diff_ratio=general_match()"
   ]
  },
  {
   "cell_type": "code",
   "execution_count": null,
   "metadata": {
    "collapsed": false
   },
   "outputs": [],
   "source": [
    "print(m_same_ratio,m_diff_ratio,w_same_ratio,w_diff_ratio)"
   ]
  },
  {
   "cell_type": "code",
   "execution_count": null,
   "metadata": {
    "collapsed": false,
    "scrolled": true
   },
   "outputs": [],
   "source": [
    "#cluster men participants and female participants separately \n",
    "import pandas as pd\n",
    "import numpy as np\n",
    "df=pd.read_csv('Feature.csv',index_col='iid')\n",
    "man=df[df['gender']==1].drop(['expnum','gender','race'],axis=1)\n",
    "woman=df[df['gender']==0].drop(['expnum','gender','race'],axis=1)\n",
    "wdata=woman.dropna()\n",
    "mdata=man.dropna()\n",
    "\n",
    "def kmeans_cluster(data):\n",
    "    from sklearn.cluster import KMeans\n",
    "    from scipy.spatial.distance import cdist,pdist\n",
    "    best=0\n",
    "    result=list()\n",
    "    for i in range(50):\n",
    "        km = KMeans(n_clusters=7, init='k-means++',n_init=30)\n",
    "        cent = km.fit(data).cluster_centers_\n",
    "        k_euclid = cdist(data, cent,'euclidean')\n",
    "        dist = np.min(k_euclid, axis=1)\n",
    "        wcss = sum(dist**2)\n",
    "        tss = sum(pdist(wdata)**2)/data.shape[0]\n",
    "        bss = tss - wcss\n",
    "        ratio = bss/tss\n",
    "        if ratio>best:\n",
    "            best=ratio\n",
    "            result=km.predict(data)\n",
    "    return result\n",
    "\n",
    "wdata['cluster']=kmeans_cluster(wdata)\n",
    "mdata['cluster']=kmeans_cluster(mdata)\n",
    "wdata.to_csv('wdata.csv')\n",
    "mdata.to_csv('mdata.csv')"
   ]
  },
  {
   "cell_type": "code",
   "execution_count": null,
   "metadata": {
    "collapsed": false
   },
   "outputs": [],
   "source": [
    "#calculate the features average values of participants from different types\n",
    "#to avoid the bias results from extreme values, the average values calculated from 3 sigma areas.\n",
    "w_feature=pd.DataFrame(data=np.zeros((7,len(list(wdata)))),columns=list(wdata),dtype=float)\n",
    "for i in range(7):\n",
    "    wgroup=wdata[wdata['cluster']==i]\n",
    "    for j in range(len(list(wdata))):\n",
    "        l=list(wgroup.iloc[:,j])\n",
    "        l_inrange=list()\n",
    "        for x in l: \n",
    "            if np.mean(l)-3*np.std(l)<= x <=np.mean(l)+3*np.std(l):\n",
    "                l_inrange.append(x)\n",
    "        w_feature.iloc[i,:].loc[list(wgroup)[j]]=np.mean(l_inrange)\n",
    "m_feature=pd.DataFrame(data=np.zeros((7,len(list(mdata)))),columns=list(mdata),dtype=float)\n",
    "for i in range(7):\n",
    "    mgroup=mdata[mdata['cluster']==i]\n",
    "    for j in range(len(list(wdata))):\n",
    "        l=list(mgroup.iloc[:,j])\n",
    "        l_inrange=list()\n",
    "        for x in l: \n",
    "            if np.mean(l)-3*np.std(l)<= x <=np.mean(l)+3*np.std(l):\n",
    "                l_inrange.append(x)\n",
    "        m_feature.iloc[i,:].loc[list(mgroup)[j]]=np.mean(l_inrange)      \n",
    "w_feature.to_csv('wfeature.csv')\n",
    "m_feature.to_csv('mfeature.csv')"
   ]
  },
  {
   "cell_type": "code",
   "execution_count": null,
   "metadata": {
    "collapsed": false
   },
   "outputs": [],
   "source": [
    "#calculate the match numbers \n",
    "def get_match_sum():\n",
    "    df=pd.read_csv('Speed Dating Data.csv')\n",
    "    man=df[(df.gender==1) & (df.match==1)][['iid','pid']]\n",
    "    woman=df[(df.gender==0) & (df.match==1)][['iid','pid']]\n",
    "    wdata=woman.dropna()\n",
    "    mdata=man.dropna()\n",
    "    wdf=pd.read_csv('wdata.csv')\n",
    "    mdf=pd.read_csv('mdata.csv')\n",
    "    m_best_match=np.zeros((7,7))\n",
    "    for row in mdata.iterrows():\n",
    "        if len(mdf[mdf['iid']==row[1][0]]) == 0 or len(wdf[wdf['iid']==row[1][1]])==0:\n",
    "            continue\n",
    "        r_n=mdf[mdf['iid']==row[1][0]].iloc[0].cluster\n",
    "        c_n=wdf[wdf['iid']==row[1][1]].iloc[0].cluster\n",
    "        m_best_match[r_n][c_n] = m_best_match[r_n][c_n] + 1\n",
    "    w_best_match=np.zeros((7,7))\n",
    "    for row in wdata.iterrows():\n",
    "        if len(wdf[wdf['iid']==row[1][0]]) == 0 or len(mdf[mdf['iid']==row[1][1]])==0:\n",
    "            continue\n",
    "        r_n=wdf[wdf['iid']==row[1][0]].iloc[0].cluster\n",
    "        c_n=mdf[mdf['iid']==row[1][1]].iloc[0].cluster\n",
    "        w_best_match[r_n][c_n] = w_best_match[r_n][c_n] + 1\n",
    "    return m_best_match,w_best_match\n",
    "m_best_match,w_best_match=get_match_sum()"
   ]
  },
  {
   "cell_type": "code",
   "execution_count": null,
   "metadata": {
    "collapsed": false
   },
   "outputs": [],
   "source": [
    "#calculate the dates numbers\n",
    "def get_date_sum():\n",
    "    df=pd.read_csv('Speed Dating Data.csv')\n",
    "    man=df[(df.gender==1)][['iid','pid']]\n",
    "    woman=df[(df.gender==0)][['iid','pid']]\n",
    "    wdata=woman.dropna()\n",
    "    mdata=man.dropna()\n",
    "    wdf=pd.read_csv('wdata.csv')\n",
    "    mdf=pd.read_csv('mdata.csv')\n",
    "    m_date_sum=np.zeros((7,7))\n",
    "    for row in mdata.iterrows():\n",
    "        if len(mdf[mdf['iid']==row[1][0]]) == 0 or len(wdf[wdf['iid']==row[1][1]])==0:\n",
    "            continue\n",
    "        r_n=mdf[mdf['iid']==row[1][0]].iloc[0].cluster\n",
    "        c_n=wdf[wdf['iid']==row[1][1]].iloc[0].cluster\n",
    "        m_date_sum[r_n][c_n] += 1\n",
    "    w_date_sum=np.zeros((7,7))\n",
    "    for row in wdata.iterrows():\n",
    "        if len(wdf[wdf['iid']==row[1][0]]) == 0 or len(mdf[mdf['iid']==row[1][1]])==0:\n",
    "            continue\n",
    "        r_n=wdf[wdf['iid']==row[1][0]].iloc[0].cluster\n",
    "        c_n=mdf[mdf['iid']==row[1][1]].iloc[0].cluster\n",
    "        w_date_sum[r_n][c_n] += 1\n",
    "    return m_date_sum,w_date_sum\n",
    "m_date_sum,w_date_sum=get_date_sum()"
   ]
  },
  {
   "cell_type": "code",
   "execution_count": null,
   "metadata": {
    "collapsed": false
   },
   "outputs": [],
   "source": [
    "#calculate the best match type\n",
    "m_ratio=np.zeros((7,7))\n",
    "for i in range(7):\n",
    "    for j in range(7):\n",
    "        m_ratio[i][j] = m_best_match[i][j]/m_date_sum[i][j]\n",
    "w_ratio=np.zeros((7,7))\n",
    "for i in range(7):\n",
    "    for j in range(7):\n",
    "        w_ratio[i][j] = w_best_match[i][j]/w_date_sum[i][j]\n",
    "pd.DataFrame(m_ratio.argmax(axis=1)).to_csv('mmatch.csv')\n",
    "pd.DataFrame(w_ratio.argmax(axis=1)).to_csv('wmatch.csv')"
   ]
  },
  {
   "cell_type": "code",
   "execution_count": null,
   "metadata": {
    "collapsed": false
   },
   "outputs": [],
   "source": [
    "#calculate the decision numbers\n",
    "def get_dec_sum():\n",
    "    df=pd.read_csv('Speed Dating Data.csv')\n",
    "    man=df[(df.gender==1) & (df.dec_o==1)][['iid','pid']]\n",
    "    woman=df[(df.gender==0) & (df.dec_o==1)][['iid','pid']]\n",
    "    wdata=woman.dropna()\n",
    "    mdata=man.dropna()\n",
    "    wdf=pd.read_csv('wdata.csv')\n",
    "    mdf=pd.read_csv('mdata.csv')\n",
    "    m_best_match=np.zeros((7,7))\n",
    "    for row in mdata.iterrows():\n",
    "        if len(mdf[mdf['iid']==row[1][0]]) == 0 or len(wdf[wdf['iid']==row[1][1]])==0:\n",
    "            continue\n",
    "        r_n=mdf[mdf['iid']==row[1][0]].iloc[0].cluster\n",
    "        c_n=wdf[wdf['iid']==row[1][1]].iloc[0].cluster\n",
    "        m_best_match[r_n][c_n] = m_best_match[r_n][c_n] + 1\n",
    "    w_best_match=np.zeros((7,7))\n",
    "    for row in wdata.iterrows():\n",
    "        if len(wdf[wdf['iid']==row[1][0]]) == 0 or len(mdf[mdf['iid']==row[1][1]])==0:\n",
    "            continue\n",
    "        r_n=wdf[wdf['iid']==row[1][0]].iloc[0].cluster\n",
    "        c_n=mdf[mdf['iid']==row[1][1]].iloc[0].cluster\n",
    "        w_best_match[r_n][c_n] = w_best_match[r_n][c_n] + 1\n",
    "    return m_best_match,w_best_match\n",
    "m_best_dec,w_best_dec=get_dec_sum()"
   ]
  },
  {
   "cell_type": "code",
   "execution_count": null,
   "metadata": {
    "collapsed": false
   },
   "outputs": [],
   "source": [
    "#calculate the most porpolar desicion type\n",
    "m_ratio=np.zeros((7,7))\n",
    "for i in range(7):\n",
    "    for j in range(7):\n",
    "        m_ratio[i][j] = m_best_dec[i][j]/m_date_sum[i][j]\n",
    "w_ratio=np.zeros((7,7))\n",
    "for i in range(7):\n",
    "    for j in range(7):\n",
    "        w_ratio[i][j] = w_best_dec[i][j]/w_date_sum[i][j]\n",
    "pd.DataFrame(m_ratio.argmax(axis=1)).to_csv('mdec.csv')\n",
    "pd.DataFrame(w_ratio.argmax(axis=1)).to_csv('wdec.csv')"
   ]
  }
 ],
 "metadata": {
  "anaconda-cloud": {},
  "kernelspec": {
   "display_name": "Python [Root]",
   "language": "python",
   "name": "Python [Root]"
  },
  "language_info": {
   "codemirror_mode": {
    "name": "ipython",
    "version": 3
   },
   "file_extension": ".py",
   "mimetype": "text/x-python",
   "name": "python",
   "nbconvert_exporter": "python",
   "pygments_lexer": "ipython3",
   "version": "3.5.2"
  }
 },
 "nbformat": 4,
 "nbformat_minor": 0
}
