{
 "cells": [
  {
   "cell_type": "code",
   "execution_count": 19,
   "metadata": {
    "collapsed": false,
    "scrolled": true
   },
   "outputs": [],
   "source": [
    "#Data Cleaning\n",
    "import pandas as pd\n",
    "import numpy as np\n",
    "df=pd.read_csv('Feature.csv',index_col='iid')\n",
    "man=df[df['gender']==0].drop(['expnum','gender'],axis=1)\n",
    "woman=df[df['gender']==1].drop(['expnum','gender'],axis=1)\n",
    "wdata=woman.dropna()\n",
    "mdata=man.dropna()"
   ]
  },
  {
   "cell_type": "code",
   "execution_count": 21,
   "metadata": {
    "collapsed": false
   },
   "outputs": [],
   "source": [
    "dbw=wdata"
   ]
  },
  {
   "cell_type": "markdown",
   "metadata": {},
   "source": [
    "<h4> Try different methods of clustering"
   ]
  },
  {
   "cell_type": "code",
   "execution_count": 22,
   "metadata": {
    "collapsed": false
   },
   "outputs": [
    {
     "data": {
      "text/plain": [
       "24"
      ]
     },
     "execution_count": 22,
     "metadata": {},
     "output_type": "execute_result"
    }
   ],
   "source": [
    "#first try methods that don't need the number of clusters\n",
    "from sklearn.cluster import AffinityPropagation\n",
    "af = AffinityPropagation().fit(dbw)\n",
    "cluster_centers_indices = af.cluster_centers_indices_\n",
    "labels = af.labels_\n",
    "\n",
    "n_clusters_ = len(cluster_centers_indices)\n",
    "n_clusters_"
   ]
  },
  {
   "cell_type": "code",
   "execution_count": 23,
   "metadata": {
    "collapsed": false
   },
   "outputs": [
    {
     "name": "stdout",
     "output_type": "stream",
     "text": [
      "Silhouette Coefficient: 0.051\n"
     ]
    }
   ],
   "source": [
    "from sklearn import metrics\n",
    "print(\"Silhouette Coefficient: %0.3f\"\n",
    "      % metrics.silhouette_score(dbw, labels, metric='sqeuclidean'))"
   ]
  },
  {
   "cell_type": "code",
   "execution_count": 24,
   "metadata": {
    "collapsed": false
   },
   "outputs": [
    {
     "data": {
      "text/plain": [
       "2"
      ]
     },
     "execution_count": 24,
     "metadata": {},
     "output_type": "execute_result"
    }
   ],
   "source": [
    "from sklearn.cluster import MeanShift\n",
    "ms = MeanShift()\n",
    "ms.fit(dbw)\n",
    "labels = ms.labels_\n",
    "cluster_centers = ms.cluster_centers_\n",
    "\n",
    "labels_unique = np.unique(labels)\n",
    "n_clusters_ = len(labels_unique)\n",
    "n_clusters_ "
   ]
  },
  {
   "cell_type": "code",
   "execution_count": 47,
   "metadata": {
    "collapsed": false
   },
   "outputs": [
    {
     "data": {
      "text/plain": [
       "array([ 0,  4,  0,  0,  0,  0,  6,  2,  1,  1,  2,  2,  2,  3,  0,  0, 11,\n",
       "        0,  0,  0,  2,  2,  0,  6,  0,  2,  2,  0,  0,  0,  0,  0,  0,  0,\n",
       "        0,  0,  0,  8,  0,  6,  4,  0,  8,  0,  0,  6,  0,  2,  0,  2,  6,\n",
       "        6,  0,  4,  0,  4,  4, 12,  0,  0,  2,  2,  0,  0,  5,  0,  0,  2,\n",
       "        0,  0,  0,  6,  2,  2, 10,  0,  0,  2,  6,  6,  0,  0,  0,  6,  8,\n",
       "        2, 12,  4,  0,  0,  0,  0, 12,  0,  0, 10,  6,  0,  6,  7,  0, 10,\n",
       "        0, 10,  0,  0,  0,  2,  2,  5,  6,  6,  8,  6,  9, 10,  0,  2,  0,\n",
       "       11, 12, 11,  6,  4, 13,  6,  0,  6,  2,  2,  2,  0,  3,  6,  8,  2,\n",
       "       14,  2,  0,  6,  0,  0,  8,  8,  6,  2,  8,  6,  0,  6,  0,  0,  6,\n",
       "        0,  2, 10,  0,  0,  0,  0,  2,  6,  0,  8, 10,  0,  0,  0,  6,  8,\n",
       "        0,  8,  2,  0,  0,  0,  0,  0,  0,  8,  0,  0,  0,  0,  6,  0,  6,\n",
       "        3,  2,  0,  6,  0,  6,  0,  0,  2,  6,  0, 10,  6,  0,  0,  0,  0,\n",
       "        6,  0,  8, 12,  8,  2,  6,  0,  0,  0,  0,  4,  2,  8,  2,  8,  2,\n",
       "        6,  0,  0,  2,  0,  2,  0,  0, 12,  6,  0,  6,  2,  0,  8,  6,  8,\n",
       "        7,  0, 12,  6,  0,  6,  2,  8,  2,  0,  3,  8,  0,  0,  0,  0,  0,\n",
       "       12,  3,  4,  0,  0,  4,  8,  8,  2,  0,  6,  0,  8,  0,  0,  6,  6])"
      ]
     },
     "execution_count": 47,
     "metadata": {},
     "output_type": "execute_result"
    }
   ],
   "source": [
    "from sklearn.cluster import Birch\n",
    "brc = Birch(branching_factor=50, n_clusters=None, threshold=10.85,compute_labels=True)\n",
    "brc.fit(dbw)\n",
    "brc.predict(dbw)"
   ]
  },
  {
   "cell_type": "code",
   "execution_count": 71,
   "metadata": {
    "collapsed": false
   },
   "outputs": [
    {
     "data": {
      "image/png": "[encoded data removed]",
      "text/plain": [
       "<matplotlib.figure.Figure at 0x11cc0bf60>"
      ]
     },
     "metadata": {},
     "output_type": "display_data"
    }
   ],
   "source": [
    "\n",
    "#elbow line \n",
    "import matplotlib.pyplot as plt\n",
    "%matplotlib inline \n",
    "\n",
    "kMeansVar = [KMeans(n_clusters=k,init='k-means++',n_init=30).fit(wdata) for k in range(1, 20)]\n",
    "centroids = [X.cluster_centers_ for X in kMeansVar]\n",
    "k_euclid = [cdist(wdata, cent,'euclidean') for cent in centroids]\n",
    "dist = [np.min(ke, axis=1) for ke in k_euclid]\n",
    "wcss = [sum(d**2) for d in dist]\n",
    "tss = sum(pdist(wdata)**2)/wdata.shape[0]\n",
    "bss = tss - wcss\n",
    "plt.plot(bss/tss,'*-')\n",
    "plt.show()\n",
    "\n"
   ]
  },
  {
   "cell_type": "code",
   "execution_count": 20,
   "metadata": {
    "collapsed": false,
    "scrolled": true
   },
   "outputs": [
    {
     "name": "stderr",
     "output_type": "stream",
     "text": [
      "/Users/ryjtu/anaconda/lib/python3.5/site-packages/ipykernel/__main__.py:3: SettingWithCopyWarning: \n",
      "A value is trying to be set on a copy of a slice from a DataFrame.\n",
      "Try using .loc[row_indexer,col_indexer] = value instead\n",
      "\n",
      "See the caveats in the documentation: http://pandas.pydata.org/pandas-docs/stable/indexing.html#indexing-view-versus-copy\n",
      "  app.launch_new_instance()\n",
      "/Users/ryjtu/anaconda/lib/python3.5/site-packages/ipykernel/__main__.py:4: SettingWithCopyWarning: \n",
      "A value is trying to be set on a copy of a slice from a DataFrame.\n",
      "Try using .loc[row_indexer,col_indexer] = value instead\n",
      "\n",
      "See the caveats in the documentation: http://pandas.pydata.org/pandas-docs/stable/indexing.html#indexing-view-versus-copy\n"
     ]
    }
   ],
   "source": [
    "from sklearn.cluster import KMeans\n",
    "km = KMeans(n_clusters=7, init='k-means++',n_init=30)\n",
    "wdata['cluster']=km.fit_predict(wdata)\n",
    "mdata['cluster']=km.fit_predict(mdata)"
   ]
  },
  {
   "cell_type": "code",
   "execution_count": 21,
   "metadata": {
    "collapsed": false
   },
   "outputs": [
    {
     "name": "stdout",
     "output_type": "stream",
     "text": [
      "<class 'pandas.core.frame.DataFrame'>\n",
      "Int64Index: 272 entries, 11 to 552\n",
      "Data columns (total 28 columns):\n",
      "age         272 non-null float64\n",
      "field_cd    272 non-null float64\n",
      "race        272 non-null float64\n",
      "date        272 non-null float64\n",
      "go_out      272 non-null float64\n",
      "sports      272 non-null float64\n",
      "tvsports    272 non-null float64\n",
      "exercise    272 non-null float64\n",
      "dining      272 non-null float64\n",
      "museums     272 non-null float64\n",
      "art         272 non-null float64\n",
      "hiking      272 non-null float64\n",
      "gaming      272 non-null float64\n",
      "clubbing    272 non-null float64\n",
      "reading     272 non-null float64\n",
      "tv          272 non-null float64\n",
      "theater     272 non-null float64\n",
      "movies      272 non-null float64\n",
      "concerts    272 non-null float64\n",
      "music       272 non-null float64\n",
      "shopping    272 non-null float64\n",
      "yoga        272 non-null float64\n",
      "attr3_1     272 non-null float64\n",
      "sinc3_1     272 non-null float64\n",
      "fun3_1      272 non-null float64\n",
      "intel3_1    272 non-null float64\n",
      "amb3_1      272 non-null float64\n",
      "cluster     272 non-null int32\n",
      "dtypes: float64(27), int32(1)\n",
      "memory usage: 60.6 KB\n"
     ]
    }
   ],
   "source": [
    "wdata.info()"
   ]
  },
  {
   "cell_type": "code",
   "execution_count": 24,
   "metadata": {
    "collapsed": false
   },
   "outputs": [],
   "source": [
    "wnx=wdata.iloc[:,:27]\n",
    "wny=wdata['cluster']"
   ]
  },
  {
   "cell_type": "code",
   "execution_count": 25,
   "metadata": {
    "collapsed": true
   },
   "outputs": [],
   "source": [
    "#neural network\n",
    "from sklearn.model_selection import train_test_split\n",
    "X_train, X_test, y_train, y_test = train_test_split(wnx, wny, test_size=0.3)"
   ]
  },
  {
   "cell_type": "code",
   "execution_count": 52,
   "metadata": {
    "collapsed": false
   },
   "outputs": [
    {
     "data": {
      "text/plain": [
       "array([1, 3, 1, 6, 5, 4, 0, 5, 4, 2, 5, 2, 5, 0, 0, 3, 5, 2, 1, 1, 3, 5, 4,\n",
       "       0, 1, 4, 6, 2, 1, 6, 3, 1, 1, 0, 2, 3, 5, 6, 1, 1, 5, 5, 5, 2, 5, 0,\n",
       "       0, 3, 0, 0, 0, 3, 3, 5, 4, 5, 5, 3, 0, 4, 4, 6, 3, 2, 2, 0, 0, 4, 2,\n",
       "       2, 0, 5, 3, 0, 1, 0, 0, 3, 3, 5, 2, 2], dtype=int32)"
      ]
     },
     "execution_count": 52,
     "metadata": {},
     "output_type": "execute_result"
    }
   ],
   "source": [
    "from sklearn.preprocessing import StandardScaler\n",
    "from sklearn.neural_network import MLPClassifier\n",
    "scaler=StandardScaler()\n",
    "scaler.fit(X_train)\n",
    "X_train=scaler.transform(X_train)\n",
    "X_test=scaler.transform(X_test)\n",
    "clf=MLPClassifier(activation='logistic',solver='lbfgs')\n",
    "clf.fit(X_train,y_train)\n",
    "clf.predict(X_test)"
   ]
  },
  {
   "cell_type": "code",
   "execution_count": 53,
   "metadata": {
    "collapsed": false,
    "scrolled": true
   },
   "outputs": [
    {
     "data": {
      "text/plain": [
       "iid\n",
       "220    1\n",
       "504    3\n",
       "101    1\n",
       "398    6\n",
       "315    5\n",
       "503    4\n",
       "160    0\n",
       "284    5\n",
       "231    4\n",
       "464    0\n",
       "332    5\n",
       "49     2\n",
       "423    5\n",
       "367    0\n",
       "316    0\n",
       "403    3\n",
       "245    5\n",
       "55     2\n",
       "543    2\n",
       "291    1\n",
       "462    3\n",
       "361    5\n",
       "552    4\n",
       "373    0\n",
       "53     5\n",
       "170    4\n",
       "162    6\n",
       "377    2\n",
       "111    1\n",
       "310    6\n",
       "      ..\n",
       "66     3\n",
       "250    5\n",
       "407    4\n",
       "547    5\n",
       "427    5\n",
       "453    3\n",
       "425    0\n",
       "490    4\n",
       "450    4\n",
       "536    6\n",
       "168    3\n",
       "541    2\n",
       "173    2\n",
       "321    0\n",
       "292    0\n",
       "187    4\n",
       "122    2\n",
       "440    2\n",
       "546    0\n",
       "365    5\n",
       "18     3\n",
       "229    0\n",
       "539    2\n",
       "334    5\n",
       "375    0\n",
       "279    3\n",
       "465    3\n",
       "275    5\n",
       "226    2\n",
       "14     2\n",
       "Name: cluster, dtype: int32"
      ]
     },
     "execution_count": 53,
     "metadata": {},
     "output_type": "execute_result"
    }
   ],
   "source": [
    "y_test"
   ]
  },
  {
   "cell_type": "code",
   "execution_count": 49,
   "metadata": {
    "collapsed": true
   },
   "outputs": [],
   "source": [
    "score=y_test-clf.predict(X_test)\n",
    "score=pd.DataFrame(score)"
   ]
  },
  {
   "cell_type": "code",
   "execution_count": 54,
   "metadata": {
    "collapsed": false,
    "scrolled": true
   },
   "outputs": [
    {
     "data": {
      "text/html": [
       "<div>\n",
       "<table border=\"1\" class=\"dataframe\">\n",
       "  <thead>\n",
       "    <tr style=\"text-align: right;\">\n",
       "      <th></th>\n",
       "      <th>cluster</th>\n",
       "    </tr>\n",
       "    <tr>\n",
       "      <th>iid</th>\n",
       "      <th></th>\n",
       "    </tr>\n",
       "  </thead>\n",
       "  <tbody>\n",
       "    <tr>\n",
       "      <th>220</th>\n",
       "      <td>0</td>\n",
       "    </tr>\n",
       "    <tr>\n",
       "      <th>504</th>\n",
       "      <td>0</td>\n",
       "    </tr>\n",
       "    <tr>\n",
       "      <th>101</th>\n",
       "      <td>0</td>\n",
       "    </tr>\n",
       "    <tr>\n",
       "      <th>398</th>\n",
       "      <td>0</td>\n",
       "    </tr>\n",
       "    <tr>\n",
       "      <th>315</th>\n",
       "      <td>0</td>\n",
       "    </tr>\n",
       "    <tr>\n",
       "      <th>503</th>\n",
       "      <td>0</td>\n",
       "    </tr>\n",
       "    <tr>\n",
       "      <th>160</th>\n",
       "      <td>0</td>\n",
       "    </tr>\n",
       "    <tr>\n",
       "      <th>284</th>\n",
       "      <td>1</td>\n",
       "    </tr>\n",
       "    <tr>\n",
       "      <th>231</th>\n",
       "      <td>0</td>\n",
       "    </tr>\n",
       "    <tr>\n",
       "      <th>464</th>\n",
       "      <td>0</td>\n",
       "    </tr>\n",
       "    <tr>\n",
       "      <th>332</th>\n",
       "      <td>1</td>\n",
       "    </tr>\n",
       "    <tr>\n",
       "      <th>49</th>\n",
       "      <td>0</td>\n",
       "    </tr>\n",
       "    <tr>\n",
       "      <th>423</th>\n",
       "      <td>0</td>\n",
       "    </tr>\n",
       "    <tr>\n",
       "      <th>367</th>\n",
       "      <td>0</td>\n",
       "    </tr>\n",
       "    <tr>\n",
       "      <th>316</th>\n",
       "      <td>-3</td>\n",
       "    </tr>\n",
       "    <tr>\n",
       "      <th>403</th>\n",
       "      <td>0</td>\n",
       "    </tr>\n",
       "    <tr>\n",
       "      <th>245</th>\n",
       "      <td>0</td>\n",
       "    </tr>\n",
       "    <tr>\n",
       "      <th>55</th>\n",
       "      <td>0</td>\n",
       "    </tr>\n",
       "    <tr>\n",
       "      <th>543</th>\n",
       "      <td>1</td>\n",
       "    </tr>\n",
       "    <tr>\n",
       "      <th>291</th>\n",
       "      <td>0</td>\n",
       "    </tr>\n",
       "    <tr>\n",
       "      <th>462</th>\n",
       "      <td>0</td>\n",
       "    </tr>\n",
       "    <tr>\n",
       "      <th>361</th>\n",
       "      <td>1</td>\n",
       "    </tr>\n",
       "    <tr>\n",
       "      <th>552</th>\n",
       "      <td>0</td>\n",
       "    </tr>\n",
       "    <tr>\n",
       "      <th>373</th>\n",
       "      <td>0</td>\n",
       "    </tr>\n",
       "    <tr>\n",
       "      <th>53</th>\n",
       "      <td>0</td>\n",
       "    </tr>\n",
       "    <tr>\n",
       "      <th>170</th>\n",
       "      <td>0</td>\n",
       "    </tr>\n",
       "    <tr>\n",
       "      <th>162</th>\n",
       "      <td>0</td>\n",
       "    </tr>\n",
       "    <tr>\n",
       "      <th>377</th>\n",
       "      <td>0</td>\n",
       "    </tr>\n",
       "    <tr>\n",
       "      <th>111</th>\n",
       "      <td>0</td>\n",
       "    </tr>\n",
       "    <tr>\n",
       "      <th>310</th>\n",
       "      <td>0</td>\n",
       "    </tr>\n",
       "    <tr>\n",
       "      <th>...</th>\n",
       "      <td>...</td>\n",
       "    </tr>\n",
       "    <tr>\n",
       "      <th>66</th>\n",
       "      <td>0</td>\n",
       "    </tr>\n",
       "    <tr>\n",
       "      <th>250</th>\n",
       "      <td>0</td>\n",
       "    </tr>\n",
       "    <tr>\n",
       "      <th>407</th>\n",
       "      <td>0</td>\n",
       "    </tr>\n",
       "    <tr>\n",
       "      <th>547</th>\n",
       "      <td>0</td>\n",
       "    </tr>\n",
       "    <tr>\n",
       "      <th>427</th>\n",
       "      <td>0</td>\n",
       "    </tr>\n",
       "    <tr>\n",
       "      <th>453</th>\n",
       "      <td>0</td>\n",
       "    </tr>\n",
       "    <tr>\n",
       "      <th>425</th>\n",
       "      <td>0</td>\n",
       "    </tr>\n",
       "    <tr>\n",
       "      <th>490</th>\n",
       "      <td>0</td>\n",
       "    </tr>\n",
       "    <tr>\n",
       "      <th>450</th>\n",
       "      <td>0</td>\n",
       "    </tr>\n",
       "    <tr>\n",
       "      <th>536</th>\n",
       "      <td>0</td>\n",
       "    </tr>\n",
       "    <tr>\n",
       "      <th>168</th>\n",
       "      <td>0</td>\n",
       "    </tr>\n",
       "    <tr>\n",
       "      <th>541</th>\n",
       "      <td>0</td>\n",
       "    </tr>\n",
       "    <tr>\n",
       "      <th>173</th>\n",
       "      <td>0</td>\n",
       "    </tr>\n",
       "    <tr>\n",
       "      <th>321</th>\n",
       "      <td>0</td>\n",
       "    </tr>\n",
       "    <tr>\n",
       "      <th>292</th>\n",
       "      <td>-5</td>\n",
       "    </tr>\n",
       "    <tr>\n",
       "      <th>187</th>\n",
       "      <td>0</td>\n",
       "    </tr>\n",
       "    <tr>\n",
       "      <th>122</th>\n",
       "      <td>1</td>\n",
       "    </tr>\n",
       "    <tr>\n",
       "      <th>440</th>\n",
       "      <td>0</td>\n",
       "    </tr>\n",
       "    <tr>\n",
       "      <th>546</th>\n",
       "      <td>0</td>\n",
       "    </tr>\n",
       "    <tr>\n",
       "      <th>365</th>\n",
       "      <td>0</td>\n",
       "    </tr>\n",
       "    <tr>\n",
       "      <th>18</th>\n",
       "      <td>0</td>\n",
       "    </tr>\n",
       "    <tr>\n",
       "      <th>229</th>\n",
       "      <td>0</td>\n",
       "    </tr>\n",
       "    <tr>\n",
       "      <th>539</th>\n",
       "      <td>1</td>\n",
       "    </tr>\n",
       "    <tr>\n",
       "      <th>334</th>\n",
       "      <td>5</td>\n",
       "    </tr>\n",
       "    <tr>\n",
       "      <th>375</th>\n",
       "      <td>0</td>\n",
       "    </tr>\n",
       "    <tr>\n",
       "      <th>279</th>\n",
       "      <td>0</td>\n",
       "    </tr>\n",
       "    <tr>\n",
       "      <th>465</th>\n",
       "      <td>0</td>\n",
       "    </tr>\n",
       "    <tr>\n",
       "      <th>275</th>\n",
       "      <td>0</td>\n",
       "    </tr>\n",
       "    <tr>\n",
       "      <th>226</th>\n",
       "      <td>0</td>\n",
       "    </tr>\n",
       "    <tr>\n",
       "      <th>14</th>\n",
       "      <td>0</td>\n",
       "    </tr>\n",
       "  </tbody>\n",
       "</table>\n",
       "<p>82 rows × 1 columns</p>\n",
       "</div>"
      ],
      "text/plain": [
       "     cluster\n",
       "iid         \n",
       "220        0\n",
       "504        0\n",
       "101        0\n",
       "398        0\n",
       "315        0\n",
       "503        0\n",
       "160        0\n",
       "284        1\n",
       "231        0\n",
       "464        0\n",
       "332        1\n",
       "49         0\n",
       "423        0\n",
       "367        0\n",
       "316       -3\n",
       "403        0\n",
       "245        0\n",
       "55         0\n",
       "543        1\n",
       "291        0\n",
       "462        0\n",
       "361        1\n",
       "552        0\n",
       "373        0\n",
       "53         0\n",
       "170        0\n",
       "162        0\n",
       "377        0\n",
       "111        0\n",
       "310        0\n",
       "..       ...\n",
       "66         0\n",
       "250        0\n",
       "407        0\n",
       "547        0\n",
       "427        0\n",
       "453        0\n",
       "425        0\n",
       "490        0\n",
       "450        0\n",
       "536        0\n",
       "168        0\n",
       "541        0\n",
       "173        0\n",
       "321        0\n",
       "292       -5\n",
       "187        0\n",
       "122        1\n",
       "440        0\n",
       "546        0\n",
       "365        0\n",
       "18         0\n",
       "229        0\n",
       "539        1\n",
       "334        5\n",
       "375        0\n",
       "279        0\n",
       "465        0\n",
       "275        0\n",
       "226        0\n",
       "14         0\n",
       "\n",
       "[82 rows x 1 columns]"
      ]
     },
     "execution_count": 54,
     "metadata": {},
     "output_type": "execute_result"
    }
   ],
   "source": [
    "score"
   ]
  },
  {
   "cell_type": "code",
   "execution_count": 56,
   "metadata": {
    "collapsed": false
   },
   "outputs": [
    {
     "data": {
      "text/plain": [
       "0.8414634146341463"
      ]
     },
     "execution_count": 56,
     "metadata": {},
     "output_type": "execute_result"
    }
   ],
   "source": [
    "#accuracy\n",
    "len(score[score['cluster']==0])/len(score)"
   ]
  }
 ],
 "metadata": {
  "anaconda-cloud": {},
  "kernelspec": {
   "display_name": "Python [Root]",
   "language": "python",
   "name": "Python [Root]"
  },
  "language_info": {
   "codemirror_mode": {
    "name": "ipython",
    "version": 3
   },
   "file_extension": ".py",
   "mimetype": "text/x-python",
   "name": "python",
   "nbconvert_exporter": "python",
   "pygments_lexer": "ipython3",
   "version": "3.5.2"
  }
 },
 "nbformat": 4,
 "nbformat_minor": 0
}
